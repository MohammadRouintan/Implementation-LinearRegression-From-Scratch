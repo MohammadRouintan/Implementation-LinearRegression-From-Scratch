{
 "cells": [
  {
   "attachments": {},
   "cell_type": "markdown",
   "metadata": {},
   "source": [
    "# Implement Linear Regression From Scratch\n",
    "__Author__ : Mohammad Rouintan , 400222042\n",
    "\n",
    "__Course__ : Undergraduate Machine Learning Course"
   ]
  },
  {
   "cell_type": "code",
   "execution_count": 1,
   "metadata": {},
   "outputs": [],
   "source": [
    "import numpy as np\n",
    "import pandas as pd\n",
    "import matplotlib.pyplot as plt\n",
    "import seaborn as sns"
   ]
  },
  {
   "attachments": {},
   "cell_type": "markdown",
   "metadata": {},
   "source": [
    "## Problem \n",
    "Implement Linear Regression with *Mean Absolute Error* as the cost function from scratch. Compare your results with the Linear Regression module of *Scikit-Learn*."
   ]
  },
  {
   "attachments": {},
   "cell_type": "markdown",
   "metadata": {},
   "source": [
    "### Gradient descent to solve linear regression with mean absolute error (MAE) loss function\n",
    "Mean Absolute Error cost function for a linear regression model :\n",
    "$$MAE(w,b) = \\frac{1}{m} \\sum\\limits_{i = 0}^{m-1} |f_{w,b}(x^{(i)}) - y^{(i)}|\\tag{1}$$ \n",
    "\n",
    "where \n",
    "  $$f_{w,b}(x^{(i)}) = wx^{(i)} + b \\tag{2}$$"
   ]
  },
  {
   "attachments": {},
   "cell_type": "markdown",
   "metadata": {},
   "source": [
    "We will implement Linear Regression model using gradient descent from scratch. *Gradient Descent* was described as\n",
    "\n",
    "$$\\begin{align*} \\text{repeat}&\\text{ until convergence:} \\; \\lbrace \\newline\n",
    "\\;  w &= w -  \\alpha \\frac{\\partial J(w,b)}{\\partial w} \\tag{3}  \\; \\newline \n",
    " b &= b -  \\alpha \\frac{\\partial J(w,b)}{\\partial b}  \\newline \\rbrace\n",
    "\\end{align*}$$\n",
    "\n",
    "where, parameters $w$, $b$ are updated simultaneously."
   ]
  },
  {
   "attachments": {},
   "cell_type": "markdown",
   "metadata": {},
   "source": [
    "The gradient is defined as:\n",
    "$$\n",
    "\\begin{align}\n",
    "\\frac{\\partial MAE(w,b)}{\\partial w}  &= \\frac{1}{m} \\sum\\limits_{i = 0}^{m-1} sgn(f_{w,b}(x^{(i)}) - y^{(i)})x^{(i)} \\tag{4}\\\\\n",
    "\\frac{\\partial MAE(w,b)}{\\partial b}  &= \\frac{1}{m} \\sum\\limits_{i = 0}^{m-1} sgn(f_{w,b}(x^{(i)}) - y^{(i)}) \\tag{5}\\\\\n",
    "\\end{align}\n",
    "$$"
   ]
  },
  {
   "attachments": {},
   "cell_type": "markdown",
   "metadata": {},
   "source": [
    "where\n",
    "$$\n",
    "\\begin{align}\n",
    "sgn(x) &= \\frac{x}{|x|} \\tag{6}\n",
    "\\end{align}\n",
    "$$"
   ]
  },
  {
   "cell_type": "code",
   "execution_count": 3,
   "metadata": {},
   "outputs": [],
   "source": [
    "class LinearRegression():\n",
    "\n",
    "    \"\"\"\n",
    "        Linear Regression model with mean absolute error as cost function\n",
    "\n",
    "        Parameters\n",
    "        ----------\n",
    "\n",
    "        learning_rate : float\n",
    "                        learning rate of gradient descent algorithm\n",
    "        n_iter : int\n",
    "                number of iterations or epoch of gradient descent algorithm\n",
    "        \n",
    "        Attributes\n",
    "        ----------\n",
    "        lr : float\n",
    "             learning rate of gradient descent algorithm\n",
    "        n_iter : int\n",
    "                 number of iterations or epoch of gradient descent algorithm\n",
    "        weights : numpy.array\n",
    "                  weights of our model are initialized with random numbers in [0,1]  \n",
    "        bias : float\n",
    "               bias of our model which is initialized with 0\n",
    "\n",
    "        Methods\n",
    "        -------\n",
    "        fit(X,y)\n",
    "            training the weights with regards to dataset (X and y)\n",
    "        predict(X)\n",
    "                predict target values corresponding to X\n",
    "        _compute_gradient(X,y_true,y_predicted)\n",
    "                          computing gradients of mae cost function\n",
    "\n",
    "    \"\"\"\n",
    "\n",
    "    def __init__(self,learning_rate = 0.01,n_iter=2000):\n",
    "        self.lr = learning_rate\n",
    "        self.n_iter = n_iter\n",
    "        self.weights = None\n",
    "        self.bias = None\n",
    "\n",
    "    # computing gradients of mae cost function\n",
    "    def _compute_gradient(self,X,y_true,y_predicted):\n",
    "        n = X.shape[0]\n",
    "        dw = (1/n) * np.dot(np.sign(y_predicted-y_true), X.T)\n",
    "        db = (1/n) * np.sum(np.sign(y_predicted-y_true))\n",
    "        return dw , db\n",
    "\n",
    "    def predict(self,X):\n",
    "        return np.dot(X,self.weights) + self.bias\n",
    "\n",
    "    def fit(self,X,y):\n",
    "        # initializing weights and bias\n",
    "        self.weights = np.random.rand(X.shape[1])\n",
    "        self.bias = 0 \n",
    "\n",
    "        for _ in range(self.n_iter):\n",
    "            y_predicted = self.predict(X)\n",
    "            dw , db = self._compute_gradient(X,y,y_predicted)\n",
    "            \n",
    "            # updating weights and bias\n",
    "            self.weights -= self.lr * dw\n",
    "            self.bias -= self.lr * db"
   ]
  },
  {
   "attachments": {},
   "cell_type": "markdown",
   "metadata": {},
   "source": [
    "### Part b)\n",
    "Description and code of second part"
   ]
  },
  {
   "cell_type": "code",
   "execution_count": null,
   "metadata": {},
   "outputs": [],
   "source": [
    "# Your code for first problem"
   ]
  },
  {
   "cell_type": "markdown",
   "metadata": {},
   "source": [
    "After each cell, you should explain your entire code. Please consider clean code in cells too and use comments if you should"
   ]
  },
  {
   "attachments": {},
   "cell_type": "markdown",
   "metadata": {},
   "source": [
    "## Conclusion for this problem\n",
    "Write a conclusion and references which you've used in your homework"
   ]
  },
  {
   "cell_type": "code",
   "execution_count": null,
   "metadata": {},
   "outputs": [],
   "source": []
  }
 ],
 "metadata": {
  "kernelspec": {
   "display_name": "Python 3 (ipykernel)",
   "language": "python",
   "name": "python3"
  },
  "language_info": {
   "codemirror_mode": {
    "name": "ipython",
    "version": 3
   },
   "file_extension": ".py",
   "mimetype": "text/x-python",
   "name": "python",
   "nbconvert_exporter": "python",
   "pygments_lexer": "ipython3",
   "version": "3.9.12"
  },
  "orig_nbformat": 4,
  "vscode": {
   "interpreter": {
    "hash": "aee8b7b246df8f9039afb4144a1f6fd8d2ca17a180786b69acc140d282b71a49"
   }
  }
 },
 "nbformat": 4,
 "nbformat_minor": 2
}
